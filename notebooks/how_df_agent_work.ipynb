{
 "cells": [
  {
   "cell_type": "code",
   "execution_count": 1,
   "metadata": {},
   "outputs": [
    {
     "data": {
      "text/plain": [
       "True"
      ]
     },
     "execution_count": 1,
     "metadata": {},
     "output_type": "execute_result"
    }
   ],
   "source": [
    "from langchain_experimental.agents.agent_toolkits.pandas.base import create_pandas_dataframe_agent \n",
    "from langchain_openai import ChatOpenAI\n",
    "\n",
    "import matplotlib.pyplot as plt\n",
    "import pandas as pd\n",
    "import streamlit as st\n",
    "\n",
    "from dotenv import load_dotenv\n",
    "load_dotenv()"
   ]
  },
  {
   "cell_type": "code",
   "execution_count": 2,
   "metadata": {},
   "outputs": [
    {
     "data": {
      "text/plain": [
       "ChatOpenAI(client=<openai.resources.chat.completions.Completions object at 0x000001E13466F890>, async_client=<openai.resources.chat.completions.AsyncCompletions object at 0x000001E1346A49E0>, root_client=<openai.OpenAI object at 0x000001E132987380>, root_async_client=<openai.AsyncOpenAI object at 0x000001E13466E1B0>, temperature=0.0, model_kwargs={}, openai_api_key=SecretStr('**********'), max_tokens=1000)"
      ]
     },
     "execution_count": 2,
     "metadata": {},
     "output_type": "execute_result"
    }
   ],
   "source": [
    "import sys\n",
    "sys.path.append(\"D:/Study/UNIVERSITY/OTHER COURSES/random coding/Portfolio Projects/000. GITHUB/Data-Analytics-Buddy/dabuddy\")\n",
    "from src.models.llm import load_llm\n",
    "\n",
    "MODEL_NAME = \"gpt-3.5-turbo\"\n",
    "llm = load_llm(model_name = MODEL_NAME)\n",
    "llm"
   ]
  },
  {
   "cell_type": "code",
   "execution_count": 3,
   "metadata": {},
   "outputs": [
    {
     "data": {
      "text/plain": [
       "AIMessage(content='Hello! How can I assist you today?', additional_kwargs={'refusal': None}, response_metadata={'token_usage': {'completion_tokens': 9, 'prompt_tokens': 9, 'total_tokens': 18, 'completion_tokens_details': {'audio_tokens': None, 'reasoning_tokens': 0}, 'prompt_tokens_details': {'audio_tokens': None, 'cached_tokens': 0}}, 'model_name': 'gpt-3.5-turbo-0125', 'system_fingerprint': None, 'finish_reason': 'stop', 'logprobs': None}, id='run-3dc30d3c-24b5-4b89-a5ec-decb2654ad0d-0', usage_metadata={'input_tokens': 9, 'output_tokens': 9, 'total_tokens': 18, 'input_token_details': {'cache_read': 0}, 'output_token_details': {'reasoning': 0}})"
      ]
     },
     "execution_count": 3,
     "metadata": {},
     "output_type": "execute_result"
    }
   ],
   "source": [
    "llm.invoke(\"Hello?\")"
   ]
  },
  {
   "cell_type": "code",
   "execution_count": 4,
   "metadata": {},
   "outputs": [
    {
     "data": {
      "text/plain": [
       "AgentExecutor(verbose=True, agent=RunnableMultiActionAgent(runnable=RunnableAssign(mapper={\n",
       "  agent_scratchpad: RunnableLambda(lambda x: message_formatter(x['intermediate_steps']))\n",
       "})\n",
       "| ChatPromptTemplate(input_variables=['agent_scratchpad', 'input'], input_types={'agent_scratchpad': list[typing.Annotated[typing.Union[typing.Annotated[langchain_core.messages.ai.AIMessage, Tag(tag='ai')], typing.Annotated[langchain_core.messages.human.HumanMessage, Tag(tag='human')], typing.Annotated[langchain_core.messages.chat.ChatMessage, Tag(tag='chat')], typing.Annotated[langchain_core.messages.system.SystemMessage, Tag(tag='system')], typing.Annotated[langchain_core.messages.function.FunctionMessage, Tag(tag='function')], typing.Annotated[langchain_core.messages.tool.ToolMessage, Tag(tag='tool')], typing.Annotated[langchain_core.messages.ai.AIMessageChunk, Tag(tag='AIMessageChunk')], typing.Annotated[langchain_core.messages.human.HumanMessageChunk, Tag(tag='HumanMessageChunk')], typing.Annotated[langchain_core.messages.chat.ChatMessageChunk, Tag(tag='ChatMessageChunk')], typing.Annotated[langchain_core.messages.system.SystemMessageChunk, Tag(tag='SystemMessageChunk')], typing.Annotated[langchain_core.messages.function.FunctionMessageChunk, Tag(tag='FunctionMessageChunk')], typing.Annotated[langchain_core.messages.tool.ToolMessageChunk, Tag(tag='ToolMessageChunk')]], FieldInfo(annotation=NoneType, required=True, discriminator=Discriminator(discriminator=<function _get_type at 0x000001E107B739C0>, custom_error_type=None, custom_error_message=None, custom_error_context=None))]]}, partial_variables={}, messages=[SystemMessage(content='\\nYou are working with a pandas dataframe in Python. The name of the dataframe is `df`.\\nThis is the result of `print(df.head())`:\\n|    |   CRS_DEP_TIME | CARRIER   |   DEP_TIME | DEST   |   DISTANCE | FL_DATE    |   FL_NUM | ORIGIN   |   Weather |   DAY_WEEK |   DAY_OF_MONTH | TAIL_NUM   | Flight Status   |\\n|---:|---------------:|:----------|-----------:|:-------|-----------:|:-----------|---------:|:---------|----------:|-----------:|---------------:|:-----------|:----------------|\\n|  0 |           1455 | OH        |       1455 | JFK    |        184 | 01/01/2004 |     5935 | BWI      |         0 |          4 |              1 | N940CA     | ontime          |\\n|  1 |           1640 | DH        |       1640 | JFK    |        213 | 01/01/2004 |     6155 | DCA      |         0 |          4 |              1 | N405FJ     | ontime          |\\n|  2 |           1245 | DH        |       1245 | LGA    |        229 | 01/01/2004 |     7208 | IAD      |         0 |          4 |              1 | N695BR     | ontime          |\\n|  3 |           1715 | DH        |       1709 | LGA    |        229 | 01/01/2004 |     7215 | IAD      |         0 |          4 |              1 | N662BR     | ontime          |\\n|  4 |           1039 | DH        |       1035 | LGA    |        229 | 01/01/2004 |     7792 | IAD      |         0 |          4 |              1 | N698BR     | ontime          |', additional_kwargs={}, response_metadata={}), HumanMessagePromptTemplate(prompt=PromptTemplate(input_variables=['input'], input_types={}, partial_variables={}, template='{input}'), additional_kwargs={}), MessagesPlaceholder(variable_name='agent_scratchpad')])\n",
       "| RunnableBinding(bound=ChatOpenAI(client=<openai.resources.chat.completions.Completions object at 0x000001E13466F890>, async_client=<openai.resources.chat.completions.AsyncCompletions object at 0x000001E1346A49E0>, root_client=<openai.OpenAI object at 0x000001E132987380>, root_async_client=<openai.AsyncOpenAI object at 0x000001E13466E1B0>, temperature=0.0, model_kwargs={}, openai_api_key=SecretStr('**********'), max_tokens=1000), kwargs={'tools': [{'type': 'function', 'function': {'name': 'python_repl_ast', 'description': 'A Python shell. Use this to execute python commands. Input should be a valid python command. When using this tool, sometimes output is abbreviated - make sure it does not look abbreviated before using it in your answer.', 'parameters': {'properties': {'query': {'description': 'code snippet to run', 'type': 'string'}}, 'required': ['query'], 'type': 'object'}}}]}, config={}, config_factories=[])\n",
       "| ToolsAgentOutputParser(), input_keys_arg=['input'], return_keys_arg=['output'], stream_runnable=True), tools=[PythonAstREPLTool(globals={}, locals={'df':       CRS_DEP_TIME CARRIER  DEP_TIME DEST  DISTANCE     FL_DATE  FL_NUM  \\\n",
       "0             1455      OH      1455  JFK       184  01/01/2004    5935   \n",
       "1             1640      DH      1640  JFK       213  01/01/2004    6155   \n",
       "2             1245      DH      1245  LGA       229  01/01/2004    7208   \n",
       "3             1715      DH      1709  LGA       229  01/01/2004    7215   \n",
       "4             1039      DH      1035  LGA       229  01/01/2004    7792   \n",
       "...            ...     ...       ...  ...       ...         ...     ...   \n",
       "2196           645      RU       644  EWR       199   1/31/2004    2761   \n",
       "2197          1700      RU      1653  EWR       213   1/31/2004    2497   \n",
       "2198          1600      RU      1558  EWR       199   1/31/2004    2361   \n",
       "2199          1359      RU      1403  EWR       199   1/31/2004    2216   \n",
       "2200          1730      RU      1736  EWR       199   1/31/2004    2097   \n",
       "\n",
       "     ORIGIN  Weather  DAY_WEEK  DAY_OF_MONTH TAIL_NUM Flight Status  \n",
       "0       BWI        0         4             1   N940CA        ontime  \n",
       "1       DCA        0         4             1   N405FJ        ontime  \n",
       "2       IAD        0         4             1   N695BR        ontime  \n",
       "3       IAD        0         4             1   N662BR        ontime  \n",
       "4       IAD        0         4             1   N698BR        ontime  \n",
       "...     ...      ...       ...           ...      ...           ...  \n",
       "2196    DCA        0         6            31   N15555        ontime  \n",
       "2197    IAD        0         6            31   N16976        ontime  \n",
       "2198    DCA        0         6            31   N14902        ontime  \n",
       "2199    DCA        0         6            31   N16961        ontime  \n",
       "2200    DCA        0         6            31   N13994        ontime  \n",
       "\n",
       "[2201 rows x 13 columns]})], return_intermediate_steps=True)"
      ]
     },
     "execution_count": 4,
     "metadata": {},
     "output_type": "execute_result"
    }
   ],
   "source": [
    "df = pd.read_csv(r\"D:\\Study\\UNIVERSITY\\THIRD YEAR\\Machine Learning\\data files\\in-book datasets\\FlightDelays.csv\")\n",
    "da_agent = create_pandas_dataframe_agent(llm=llm, \n",
    "                                            df=df,\n",
    "                                            agent_type=\"tool-calling\",\n",
    "                                            allow_dangerous_code = True,\n",
    "                                            verbose = True,\n",
    "                                            return_intermediate_steps = True)\n",
    "da_agent"
   ]
  },
  {
   "cell_type": "code",
   "execution_count": 28,
   "metadata": {},
   "outputs": [
    {
     "name": "stdout",
     "output_type": "stream",
     "text": [
      "\n",
      "\n",
      "\u001b[1m> Entering new AgentExecutor chain...\u001b[0m\n",
      "\u001b[32;1m\u001b[1;3m\n",
      "Invoking: `python_repl_ast` with `{'query': 'df.describe()'}`\n",
      "\n",
      "\n",
      "\u001b[0m\u001b[36;1m\u001b[1;3m       CRS_DEP_TIME     DEP_TIME     DISTANCE       FL_NUM      Weather  \\\n",
      "count   2201.000000  2201.000000  2201.000000  2201.000000  2201.000000   \n",
      "mean    1371.938664  1369.298955   211.871422  3815.086324     0.014539   \n",
      "std      432.697149   442.462754    13.316815  2409.750224     0.119725   \n",
      "min      600.000000    10.000000   169.000000   746.000000     0.000000   \n",
      "25%     1000.000000  1004.000000   213.000000  2156.000000     0.000000   \n",
      "50%     1455.000000  1450.000000   214.000000  2385.000000     0.000000   \n",
      "75%     1710.000000  1709.000000   214.000000  6155.000000     0.000000   \n",
      "max     2130.000000  2330.000000   229.000000  7924.000000     1.000000   \n",
      "\n",
      "          DAY_WEEK  DAY_OF_MONTH  \n",
      "count  2201.000000   2201.000000  \n",
      "mean      3.905498     16.024989  \n",
      "std       1.903149      8.677390  \n",
      "min       1.000000      1.000000  \n",
      "25%       2.000000      8.000000  \n",
      "50%       4.000000     16.000000  \n",
      "75%       5.000000     23.000000  \n",
      "max       7.000000     31.000000  \u001b[0m\u001b[32;1m\u001b[1;3mThe dataset contains the following columns:\n",
      "\n",
      "- CRS_DEP_TIME: Scheduled departure time\n",
      "- DEP_TIME: Actual departure time\n",
      "- DISTANCE: Distance of the flight\n",
      "- FL_NUM: Flight number\n",
      "- Weather: Indicates if there was any weather impact (0 for no impact, 1 for impact)\n",
      "- DAY_WEEK: Day of the week (1 for Monday, 7 for Sunday)\n",
      "- DAY_OF_MONTH: Day of the month\n",
      "\n",
      "Here are some statistics for the numerical columns:\n",
      "- The mean scheduled departure time is approximately 1371.94\n",
      "- The mean actual departure time is approximately 1369.30\n",
      "- The mean distance of the flights is approximately 211.87\n",
      "- The mean flight number is approximately 3815.09\n",
      "- The mean weather impact is very low, with a mean of 0.0145\n",
      "- The mean day of the week is approximately 3.91\n",
      "- The mean day of the month is approximately 16.02\n",
      "\n",
      "These statistics provide an overview of the central tendency and spread of the numerical data in the dataset.\u001b[0m\n",
      "\n",
      "\u001b[1m> Finished chain.\u001b[0m\n"
     ]
    }
   ],
   "source": [
    "query = \"Describe this dataset\"\n",
    "response = da_agent(query)"
   ]
  },
  {
   "cell_type": "code",
   "execution_count": 29,
   "metadata": {},
   "outputs": [
    {
     "data": {
      "text/plain": [
       "'df.describe()'"
      ]
     },
     "execution_count": 29,
     "metadata": {},
     "output_type": "execute_result"
    }
   ],
   "source": [
    "response[\"intermediate_steps\"][-1][0].tool_input[\"query\"]"
   ]
  },
  {
   "cell_type": "code",
   "execution_count": 30,
   "metadata": {},
   "outputs": [
    {
     "data": {
      "text/plain": [
       "'The dataset contains the following columns:\\n\\n- CRS_DEP_TIME: Scheduled departure time\\n- DEP_TIME: Actual departure time\\n- DISTANCE: Distance of the flight\\n- FL_NUM: Flight number\\n- Weather: Indicates if there was any weather impact (0 for no impact, 1 for impact)\\n- DAY_WEEK: Day of the week (1 for Monday, 7 for Sunday)\\n- DAY_OF_MONTH: Day of the month\\n\\nHere are some statistics for the numerical columns:\\n- The mean scheduled departure time is approximately 1371.94\\n- The mean actual departure time is approximately 1369.30\\n- The mean distance of the flights is approximately 211.87\\n- The mean flight number is approximately 3815.09\\n- The mean weather impact is very low, with a mean of 0.0145\\n- The mean day of the week is approximately 3.91\\n- The mean day of the month is approximately 16.02\\n\\nThese statistics provide an overview of the central tendency and spread of the numerical data in the dataset.'"
      ]
     },
     "execution_count": 30,
     "metadata": {},
     "output_type": "execute_result"
    }
   ],
   "source": [
    "response[\"output\"]"
   ]
  },
  {
   "cell_type": "code",
   "execution_count": 22,
   "metadata": {},
   "outputs": [
    {
     "name": "stdout",
     "output_type": "stream",
     "text": [
      "\n",
      "\n",
      "\u001b[1m> Entering new AgentExecutor chain...\u001b[0m\n",
      "\u001b[32;1m\u001b[1;3m\n",
      "Invoking: `python_repl_ast` with `{'query': \"import seaborn as sns\\nimport matplotlib.pyplot as plt\\n\\nsns.scatterplot(x='CRS_DEP_TIME', y='DISTANCE', data=df)\\nplt.title('Scatter Plot of CRS_DEP_TIME vs Distance')\\nplt.xlabel('CRS_DEP_TIME')\\nplt.ylabel('Distance')\\nplt.show()\"}`\n",
      "\n",
      "\n",
      "\u001b[0m"
     ]
    },
    {
     "data": {
      "image/png": "[encoded data removed]",
      "text/plain": [
       "<Figure size 640x480 with 1 Axes>"
      ]
     },
     "metadata": {},
     "output_type": "display_data"
    },
    {
     "name": "stdout",
     "output_type": "stream",
     "text": [
      "\u001b[36;1m\u001b[1;3m\u001b[0m\u001b[32;1m\u001b[1;3mHere is the scatter plot of CRS_DEP_TIME vs Distance using Seaborn. The plot shows the relationship between the scheduled departure time and the distance of the flights.\u001b[0m\n",
      "\n",
      "\u001b[1m> Finished chain.\u001b[0m\n"
     ]
    }
   ],
   "source": [
    "query = \"Scatter plot of crs_dep_time and distance using seaborn\"\n",
    "response = da_agent(query)"
   ]
  },
  {
   "cell_type": "code",
   "execution_count": 23,
   "metadata": {},
   "outputs": [
    {
     "name": "stdout",
     "output_type": "stream",
     "text": [
      "import seaborn as sns\n",
      "import matplotlib.pyplot as plt\n",
      "\n",
      "sns.scatterplot(x='CRS_DEP_TIME', y='DISTANCE', data=df)\n",
      "plt.title('Scatter Plot of CRS_DEP_TIME vs Distance')\n",
      "plt.xlabel('CRS_DEP_TIME')\n",
      "plt.ylabel('Distance')\n",
      "plt.show()\n"
     ]
    }
   ],
   "source": [
    "print(response[\"intermediate_steps\"][-1][0].tool_input[\"query\"])"
   ]
  },
  {
   "cell_type": "code",
   "execution_count": 27,
   "metadata": {},
   "outputs": [
    {
     "data": {
      "text/plain": [
       "{'input': 'Scatter plot of crs_dep_time and distance using seaborn',\n",
       " 'output': 'Here is the scatter plot of CRS_DEP_TIME vs Distance using Seaborn. The plot shows the relationship between the scheduled departure time and the distance of the flights.',\n",
       " 'intermediate_steps': [(ToolAgentAction(tool='python_repl_ast', tool_input={'query': \"import seaborn as sns\\nimport matplotlib.pyplot as plt\\n\\nsns.scatterplot(x='CRS_DEP_TIME', y='DISTANCE', data=df)\\nplt.title('Scatter Plot of CRS_DEP_TIME vs Distance')\\nplt.xlabel('CRS_DEP_TIME')\\nplt.ylabel('Distance')\\nplt.show()\"}, log='\\nInvoking: `python_repl_ast` with `{\\'query\\': \"import seaborn as sns\\\\nimport matplotlib.pyplot as plt\\\\n\\\\nsns.scatterplot(x=\\'CRS_DEP_TIME\\', y=\\'DISTANCE\\', data=df)\\\\nplt.title(\\'Scatter Plot of CRS_DEP_TIME vs Distance\\')\\\\nplt.xlabel(\\'CRS_DEP_TIME\\')\\\\nplt.ylabel(\\'Distance\\')\\\\nplt.show()\"}`\\n\\n\\n', message_log=[AIMessageChunk(content='', additional_kwargs={'tool_calls': [{'index': 0, 'id': 'call_x5tOu4lDUDVlnD4wPt32V65h', 'function': {'arguments': '{\"query\":\"import seaborn as sns\\\\nimport matplotlib.pyplot as plt\\\\n\\\\nsns.scatterplot(x=\\'CRS_DEP_TIME\\', y=\\'DISTANCE\\', data=df)\\\\nplt.title(\\'Scatter Plot of CRS_DEP_TIME vs Distance\\')\\\\nplt.xlabel(\\'CRS_DEP_TIME\\')\\\\nplt.ylabel(\\'Distance\\')\\\\nplt.show()\"}', 'name': 'python_repl_ast'}, 'type': 'function'}]}, response_metadata={'finish_reason': 'tool_calls', 'model_name': 'gpt-3.5-turbo-0125'}, id='run-68eaaa72-ffde-492c-a18e-34026d00f6fc', tool_calls=[{'name': 'python_repl_ast', 'args': {'query': \"import seaborn as sns\\nimport matplotlib.pyplot as plt\\n\\nsns.scatterplot(x='CRS_DEP_TIME', y='DISTANCE', data=df)\\nplt.title('Scatter Plot of CRS_DEP_TIME vs Distance')\\nplt.xlabel('CRS_DEP_TIME')\\nplt.ylabel('Distance')\\nplt.show()\"}, 'id': 'call_x5tOu4lDUDVlnD4wPt32V65h', 'type': 'tool_call'}], tool_call_chunks=[{'name': 'python_repl_ast', 'args': '{\"query\":\"import seaborn as sns\\\\nimport matplotlib.pyplot as plt\\\\n\\\\nsns.scatterplot(x=\\'CRS_DEP_TIME\\', y=\\'DISTANCE\\', data=df)\\\\nplt.title(\\'Scatter Plot of CRS_DEP_TIME vs Distance\\')\\\\nplt.xlabel(\\'CRS_DEP_TIME\\')\\\\nplt.ylabel(\\'Distance\\')\\\\nplt.show()\"}', 'id': 'call_x5tOu4lDUDVlnD4wPt32V65h', 'index': 0, 'type': 'tool_call_chunk'}])], tool_call_id='call_x5tOu4lDUDVlnD4wPt32V65h'),\n",
       "   '')]}"
      ]
     },
     "execution_count": 27,
     "metadata": {},
     "output_type": "execute_result"
    }
   ],
   "source": [
    "response"
   ]
  }
 ],
 "metadata": {
  "kernelspec": {
   "display_name": ".venv",
   "language": "python",
   "name": "python3"
  },
  "language_info": {
   "codemirror_mode": {
    "name": "ipython",
    "version": 3
   },
   "file_extension": ".py",
   "mimetype": "text/x-python",
   "name": "python",
   "nbconvert_exporter": "python",
   "pygments_lexer": "ipython3",
   "version": "3.12.7"
  }
 },
 "nbformat": 4,
 "nbformat_minor": 2
}
